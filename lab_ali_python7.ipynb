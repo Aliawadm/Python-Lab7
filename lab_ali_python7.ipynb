{
 "cells": [
  {
   "cell_type": "code",
   "execution_count": 4,
   "id": "9c9c3e2c-d8eb-4a95-93c8-65e43e67b285",
   "metadata": {},
   "outputs": [
    {
     "name": "stdin",
     "output_type": "stream",
     "text": [
      "enter the number : 9999999999\n"
     ]
    },
    {
     "name": "stdout",
     "output_type": "stream",
     "text": [
      "Sorry, the number is not found\n"
     ]
    }
   ],
   "source": [
    "phone_num={\"1111111111\":\"Amal\",\n",
    "\"2222222222\":\t\"Mohammed\",\n",
    "\"3333333333\":\"Khadijah\",\n",
    "\"4444444444\":\t\"Abdullah\",\n",
    "\"5555555555\": \"Rawan\",\n",
    "\"6666666666\":\"Faisal\",\n",
    "\"7777777777\" :\"Layla\"}\n",
    "user= input(\"enter the number :\")\n",
    "try:\n",
    "  x = int(user)\n",
    "except:\n",
    "  print(\"This is invalid number ( number contains letters or symbols)\")\n",
    "if len(user)!=10 :\n",
    "  print(\"This is invalid number (number is less or more than 10 numbers)\")\n",
    "elif user in phone_num:\n",
    "  print(f\"HI {phone_num[user]}\")\n",
    "else:\n",
    "  print(\"Sorry, the number is not found\")\n"
   ]
  },
  {
   "cell_type": "code",
   "execution_count": null,
   "id": "17c5c5f1-278c-4cfa-b9a2-1e57e9db76a4",
   "metadata": {},
   "outputs": [],
   "source": []
  }
 ],
 "metadata": {
  "kernelspec": {
   "display_name": "Python 3 (ipykernel)",
   "language": "python",
   "name": "python3"
  },
  "language_info": {
   "codemirror_mode": {
    "name": "ipython",
    "version": 3
   },
   "file_extension": ".py",
   "mimetype": "text/x-python",
   "name": "python",
   "nbconvert_exporter": "python",
   "pygments_lexer": "ipython3",
   "version": "3.12.0"
  }
 },
 "nbformat": 4,
 "nbformat_minor": 5
}
